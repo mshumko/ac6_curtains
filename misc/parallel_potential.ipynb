{
 "cells": [
  {
   "cell_type": "markdown",
   "metadata": {},
   "source": [
    "# Curtain Parallel Potential Model\n",
    "Here I explore the minimum parallel electric potential necessary to lower the mirror point of an electron from 100 km in the SAA (just trapped), to AC6's altitude in the bounce loss cone. \n",
    "\n",
    "Further, we assume this potential is at the equator, so it will modify the electron's equatorial pitch angle.\n",
    "\n",
    "We will first pick a curtain observation and use IRBEM to find the minimum altitude and pitch angle change those electrons experienced such that they were observed by AC6 for a prolonged period."
   ]
  },
  {
   "cell_type": "code",
   "execution_count": 5,
   "metadata": {},
   "outputs": [],
   "source": [
    "import pandas as pd\n",
    "import numpy as np\n",
    "import matplotlib.pyplot as plt\n",
    "from datetime import datetime\n",
    "import scipy.interpolate #.interp1d\n",
    "\n",
    "import IRBEM\n",
    "Re_km = 6_371"
   ]
  },
  {
   "cell_type": "code",
   "execution_count": 6,
   "metadata": {},
   "outputs": [],
   "source": [
    "# t_0 = datetime(2015, 8, 27, 23, 4, 44, 500000)\n",
    "t_0 = datetime(2017, 2, 2, 9, 36, 10, 900000)"
   ]
  },
  {
   "cell_type": "markdown",
   "metadata": {},
   "source": [
    "### Load catalog file to look up AC6 location"
   ]
  },
  {
   "cell_type": "code",
   "execution_count": 7,
   "metadata": {},
   "outputs": [
    {
     "data": {
      "text/html": [
       "<div>\n",
       "<style scoped>\n",
       "    .dataframe tbody tr th:only-of-type {\n",
       "        vertical-align: middle;\n",
       "    }\n",
       "\n",
       "    .dataframe tbody tr th {\n",
       "        vertical-align: top;\n",
       "    }\n",
       "\n",
       "    .dataframe thead th {\n",
       "        text-align: right;\n",
       "    }\n",
       "</style>\n",
       "<table border=\"1\" class=\"dataframe\">\n",
       "  <thead>\n",
       "    <tr style=\"text-align: right;\">\n",
       "      <th></th>\n",
       "      <th>dos1rate</th>\n",
       "      <th>peak_std</th>\n",
       "      <th>Lm_OPQ</th>\n",
       "      <th>MLT_OPQ</th>\n",
       "      <th>lat</th>\n",
       "      <th>lon</th>\n",
       "      <th>alt</th>\n",
       "      <th>Dist_In_Track</th>\n",
       "      <th>Lag_In_Track</th>\n",
       "      <th>Dist_Total</th>\n",
       "      <th>Loss_Cone_Type</th>\n",
       "      <th>flag</th>\n",
       "      <th>AE</th>\n",
       "      <th>time_cc</th>\n",
       "      <th>space_cc</th>\n",
       "      <th>time_spatial_A</th>\n",
       "      <th>time_spatial_B</th>\n",
       "      <th>peak_width_A</th>\n",
       "      <th>peak_width_B</th>\n",
       "    </tr>\n",
       "    <tr>\n",
       "      <th>dateTime</th>\n",
       "      <th></th>\n",
       "      <th></th>\n",
       "      <th></th>\n",
       "      <th></th>\n",
       "      <th></th>\n",
       "      <th></th>\n",
       "      <th></th>\n",
       "      <th></th>\n",
       "      <th></th>\n",
       "      <th></th>\n",
       "      <th></th>\n",
       "      <th></th>\n",
       "      <th></th>\n",
       "      <th></th>\n",
       "      <th></th>\n",
       "      <th></th>\n",
       "      <th></th>\n",
       "      <th></th>\n",
       "      <th></th>\n",
       "    </tr>\n",
       "  </thead>\n",
       "  <tbody>\n",
       "    <tr>\n",
       "      <th>2014-12-19 11:45:30.500000</th>\n",
       "      <td>290.002</td>\n",
       "      <td>2.840199</td>\n",
       "      <td>6.66789</td>\n",
       "      <td>10.71360</td>\n",
       "      <td>62.7607</td>\n",
       "      <td>-35.6930</td>\n",
       "      <td>662.260</td>\n",
       "      <td>461.176</td>\n",
       "      <td>61.2438</td>\n",
       "      <td>461.422</td>\n",
       "      <td>0.0</td>\n",
       "      <td>4.0</td>\n",
       "      <td>51.0</td>\n",
       "      <td>0.094868</td>\n",
       "      <td>0.870388</td>\n",
       "      <td>2014-12-19 11:44:29.256200</td>\n",
       "      <td>2014-12-19 11:45:30.500000</td>\n",
       "      <td>NaN</td>\n",
       "      <td>0.618749</td>\n",
       "    </tr>\n",
       "    <tr>\n",
       "      <th>2014-12-19 18:17:11.099999</th>\n",
       "      <td>340.002</td>\n",
       "      <td>14.832431</td>\n",
       "      <td>7.24842</td>\n",
       "      <td>7.98180</td>\n",
       "      <td>63.5059</td>\n",
       "      <td>-134.1340</td>\n",
       "      <td>663.739</td>\n",
       "      <td>463.721</td>\n",
       "      <td>61.5946</td>\n",
       "      <td>463.972</td>\n",
       "      <td>1.0</td>\n",
       "      <td>0.0</td>\n",
       "      <td>405.0</td>\n",
       "      <td>0.288474</td>\n",
       "      <td>0.892241</td>\n",
       "      <td>2014-12-19 18:16:09.505399</td>\n",
       "      <td>2014-12-19 18:17:11.099999</td>\n",
       "      <td>NaN</td>\n",
       "      <td>0.553333</td>\n",
       "    </tr>\n",
       "    <tr>\n",
       "      <th>2014-12-19 18:17:12.300000</th>\n",
       "      <td>340.002</td>\n",
       "      <td>11.704743</td>\n",
       "      <td>7.27972</td>\n",
       "      <td>7.97519</td>\n",
       "      <td>63.5759</td>\n",
       "      <td>-134.1890</td>\n",
       "      <td>663.824</td>\n",
       "      <td>463.718</td>\n",
       "      <td>61.5946</td>\n",
       "      <td>463.968</td>\n",
       "      <td>1.0</td>\n",
       "      <td>0.0</td>\n",
       "      <td>405.0</td>\n",
       "      <td>0.090012</td>\n",
       "      <td>0.895632</td>\n",
       "      <td>2014-12-19 18:16:10.705400</td>\n",
       "      <td>2014-12-19 18:17:12.300000</td>\n",
       "      <td>NaN</td>\n",
       "      <td>0.486890</td>\n",
       "    </tr>\n",
       "    <tr>\n",
       "      <th>2014-12-19 21:33:52.899999</th>\n",
       "      <td>640.003</td>\n",
       "      <td>14.352735</td>\n",
       "      <td>6.97210</td>\n",
       "      <td>7.45659</td>\n",
       "      <td>70.3503</td>\n",
       "      <td>170.0450</td>\n",
       "      <td>670.690</td>\n",
       "      <td>464.995</td>\n",
       "      <td>61.7903</td>\n",
       "      <td>465.247</td>\n",
       "      <td>1.0</td>\n",
       "      <td>20.0</td>\n",
       "      <td>99.0</td>\n",
       "      <td>0.536131</td>\n",
       "      <td>0.841011</td>\n",
       "      <td>2014-12-19 21:33:52.899999</td>\n",
       "      <td>2014-12-19 21:34:54.690299</td>\n",
       "      <td>0.565442</td>\n",
       "      <td>0.957143</td>\n",
       "    </tr>\n",
       "    <tr>\n",
       "      <th>2015-03-26 07:31:44.500000</th>\n",
       "      <td>170.001</td>\n",
       "      <td>1.455209</td>\n",
       "      <td>7.08831</td>\n",
       "      <td>10.39770</td>\n",
       "      <td>69.2889</td>\n",
       "      <td>21.2179</td>\n",
       "      <td>632.797</td>\n",
       "      <td>243.682</td>\n",
       "      <td>32.2168</td>\n",
       "      <td>243.716</td>\n",
       "      <td>1.0</td>\n",
       "      <td>0.0</td>\n",
       "      <td>201.0</td>\n",
       "      <td>0.261325</td>\n",
       "      <td>0.888005</td>\n",
       "      <td>2015-03-26 07:31:12.283200</td>\n",
       "      <td>2015-03-26 07:31:44.500000</td>\n",
       "      <td>0.057192</td>\n",
       "      <td>0.620818</td>\n",
       "    </tr>\n",
       "  </tbody>\n",
       "</table>\n",
       "</div>"
      ],
      "text/plain": [
       "                            dos1rate   peak_std   Lm_OPQ   MLT_OPQ      lat  \\\n",
       "dateTime                                                                      \n",
       "2014-12-19 11:45:30.500000   290.002   2.840199  6.66789  10.71360  62.7607   \n",
       "2014-12-19 18:17:11.099999   340.002  14.832431  7.24842   7.98180  63.5059   \n",
       "2014-12-19 18:17:12.300000   340.002  11.704743  7.27972   7.97519  63.5759   \n",
       "2014-12-19 21:33:52.899999   640.003  14.352735  6.97210   7.45659  70.3503   \n",
       "2015-03-26 07:31:44.500000   170.001   1.455209  7.08831  10.39770  69.2889   \n",
       "\n",
       "                                 lon      alt  Dist_In_Track  Lag_In_Track  \\\n",
       "dateTime                                                                     \n",
       "2014-12-19 11:45:30.500000  -35.6930  662.260        461.176       61.2438   \n",
       "2014-12-19 18:17:11.099999 -134.1340  663.739        463.721       61.5946   \n",
       "2014-12-19 18:17:12.300000 -134.1890  663.824        463.718       61.5946   \n",
       "2014-12-19 21:33:52.899999  170.0450  670.690        464.995       61.7903   \n",
       "2015-03-26 07:31:44.500000   21.2179  632.797        243.682       32.2168   \n",
       "\n",
       "                            Dist_Total  Loss_Cone_Type  flag     AE   time_cc  \\\n",
       "dateTime                                                                        \n",
       "2014-12-19 11:45:30.500000     461.422             0.0   4.0   51.0  0.094868   \n",
       "2014-12-19 18:17:11.099999     463.972             1.0   0.0  405.0  0.288474   \n",
       "2014-12-19 18:17:12.300000     463.968             1.0   0.0  405.0  0.090012   \n",
       "2014-12-19 21:33:52.899999     465.247             1.0  20.0   99.0  0.536131   \n",
       "2015-03-26 07:31:44.500000     243.716             1.0   0.0  201.0  0.261325   \n",
       "\n",
       "                            space_cc              time_spatial_A  \\\n",
       "dateTime                                                           \n",
       "2014-12-19 11:45:30.500000  0.870388  2014-12-19 11:44:29.256200   \n",
       "2014-12-19 18:17:11.099999  0.892241  2014-12-19 18:16:09.505399   \n",
       "2014-12-19 18:17:12.300000  0.895632  2014-12-19 18:16:10.705400   \n",
       "2014-12-19 21:33:52.899999  0.841011  2014-12-19 21:33:52.899999   \n",
       "2015-03-26 07:31:44.500000  0.888005  2015-03-26 07:31:12.283200   \n",
       "\n",
       "                                        time_spatial_B  peak_width_A  \\\n",
       "dateTime                                                               \n",
       "2014-12-19 11:45:30.500000  2014-12-19 11:45:30.500000           NaN   \n",
       "2014-12-19 18:17:11.099999  2014-12-19 18:17:11.099999           NaN   \n",
       "2014-12-19 18:17:12.300000  2014-12-19 18:17:12.300000           NaN   \n",
       "2014-12-19 21:33:52.899999  2014-12-19 21:34:54.690299      0.565442   \n",
       "2015-03-26 07:31:44.500000  2015-03-26 07:31:44.500000      0.057192   \n",
       "\n",
       "                            peak_width_B  \n",
       "dateTime                                  \n",
       "2014-12-19 11:45:30.500000      0.618749  \n",
       "2014-12-19 18:17:11.099999      0.553333  \n",
       "2014-12-19 18:17:12.300000      0.486890  \n",
       "2014-12-19 21:33:52.899999      0.957143  \n",
       "2015-03-26 07:31:44.500000      0.620818  "
      ]
     },
     "execution_count": 7,
     "metadata": {},
     "output_type": "execute_result"
    }
   ],
   "source": [
    "cat_path = '/home/mike/research/ac6_curtains/data/catalogs/AC6_curtains_sorted_v8.txt'\n",
    "cat = pd.read_csv(cat_path, index_col=0)\n",
    "cat.index = pd.to_datetime(cat.index)\n",
    "cat.head()"
   ]
  },
  {
   "cell_type": "code",
   "execution_count": 8,
   "metadata": {},
   "outputs": [
    {
     "data": {
      "text/plain": [
       "dos1rate                             1100.01\n",
       "peak_std                             7.82797\n",
       "Lm_OPQ                                 5.637\n",
       "MLT_OPQ                              10.2041\n",
       "lat                                  64.1108\n",
       "lon                                  -10.597\n",
       "alt                                  636.864\n",
       "Dist_In_Track                        65.2286\n",
       "Lag_In_Track                         8.63173\n",
       "Dist_Total                           65.2867\n",
       "Loss_Cone_Type                             2\n",
       "flag                                       0\n",
       "AE                                       271\n",
       "time_cc                             0.854163\n",
       "space_cc                            0.948282\n",
       "time_spatial_A    2017-02-02 09:36:02.268270\n",
       "time_spatial_B    2017-02-02 09:36:10.900000\n",
       "peak_width_A                        0.711449\n",
       "peak_width_B                        0.434247\n",
       "Name: 2017-02-02 09:36:10.900000, dtype: object"
      ]
     },
     "execution_count": 8,
     "metadata": {},
     "output_type": "execute_result"
    }
   ],
   "source": [
    "curtain_obs_params = cat.loc[t_0]\n",
    "curtain_obs_params"
   ]
  },
  {
   "cell_type": "markdown",
   "metadata": {},
   "source": [
    "From a single spacecraft this looks like two superposed microbursts\n",
    "![image](20150827_blc_curtain_example.png)"
   ]
  },
  {
   "cell_type": "markdown",
   "metadata": {},
   "source": [
    "### BLC Sanity Check\n",
    "Southern Hemisphere Mirror Point For Locally Mirroring Electrons at AC6 "
   ]
  },
  {
   "cell_type": "code",
   "execution_count": 9,
   "metadata": {},
   "outputs": [
    {
     "name": "stdout",
     "output_type": "stream",
     "text": [
      "34.92992623789637\n"
     ]
    }
   ],
   "source": [
    "model = IRBEM.MagFields(kext='OPQ77')\n",
    "X = {'dateTime':t_0, 'x1':cat.loc[t_0, 'alt'], 'x2':cat.loc[t_0, 'lat'], 'x3':cat.loc[t_0, 'lon']}\n",
    "\n",
    "try:\n",
    "    model.mirror_point_altitude(X, None)\n",
    "    print(model.mirrorAlt)\n",
    "except ValueError as err: \n",
    "    if str(err) == 'Mirror point below the ground!':\n",
    "        print(err)\n",
    "    else:\n",
    "        raise"
   ]
  },
  {
   "cell_type": "markdown",
   "metadata": {},
   "source": [
    "Looks like the mirror point in the southern hemisphere is below the ground - I am very confident that these electrons must have been lost within one bounce."
   ]
  },
  {
   "cell_type": "markdown",
   "metadata": {},
   "source": [
    "### Mirror points for trapped particles\n",
    "Trace the field line connected to AC6 and find the mirror point altitude above AC6 of bareley trapped electrons - defined as electrons with a 100 km mirror point altitude in the SAA."
   ]
  },
  {
   "cell_type": "code",
   "execution_count": 10,
   "metadata": {},
   "outputs": [],
   "source": [
    "output_dictionary = model.trace_field_line(X, None) # Trace the magnetic field line.\n",
    "field_line_dict = {'x':output_dictionary['POSIT'][:,0], 'y':output_dictionary['POSIT'][:,1], \n",
    "              'z':output_dictionary['POSIT'][:,2], 'blocal':output_dictionary['blocal'],\n",
    "             'alt':Re_km*(np.linalg.norm(output_dictionary['POSIT'], axis=1)-1)}\n",
    "field_line_df = pd.DataFrame(data=field_line_dict)\n",
    "interp_index = np.linspace(0, len(output_dictionary['POSIT'][:,0])-1, num=10000)"
   ]
  },
  {
   "cell_type": "code",
   "execution_count": 11,
   "metadata": {
    "scrolled": true
   },
   "outputs": [
    {
     "data": {
      "image/png": "[encoded data removed]",
      "text/plain": [
       "<Figure size 1080x288 with 2 Axes>"
      ]
     },
     "metadata": {
      "needs_background": "light"
     },
     "output_type": "display_data"
    }
   ],
   "source": [
    "_ , ax = plt.subplots(1, 2, figsize=(15, 4))\n",
    "ax[0].plot(field_line_df.alt); ax[0].set(xlabel='index', ylabel='altitude [km]')\n",
    "ax[1].plot(field_line_df.blocal); ax[1].set(xlabel='index', ylabel='|B| [nT]')\n",
    "plt.suptitle('Magnetic field line altitude and magnetic field');"
   ]
  },
  {
   "cell_type": "markdown",
   "metadata": {},
   "source": [
    "Interpolate the field line values"
   ]
  },
  {
   "cell_type": "code",
   "execution_count": 12,
   "metadata": {},
   "outputs": [],
   "source": [
    "def interp_df(df, new_index):\n",
    "    \"\"\"\n",
    "    Return a new DataFrame with all columns values interpolated\n",
    "    to the new_index values.\n",
    "    \"\"\"\n",
    "    df_out = pd.DataFrame(index=new_index)\n",
    "    df_out.index.name = df.index.name\n",
    "\n",
    "    for colname, col in df.iteritems():\n",
    "        df_out[colname] = np.interp(new_index, df.index, col, right=np.nan)\n",
    "\n",
    "    return df_out\n",
    "\n",
    "field_line_interp = interp_df(field_line_df, interp_index)"
   ]
  },
  {
   "cell_type": "markdown",
   "metadata": {},
   "source": [
    "### Find the magnetic field strength at 100 km in the southern hemisphere and estimate by how much the electron's mirror point must have lowered"
   ]
  },
  {
   "cell_type": "code",
   "execution_count": 13,
   "metadata": {},
   "outputs": [
    {
     "data": {
      "text/plain": [
       "x             0.333480\n",
       "y             0.237432\n",
       "z            -0.930309\n",
       "blocal    38697.441657\n",
       "alt         104.818996\n",
       "Name: 282.5188518851885, dtype: float64"
      ]
     },
     "execution_count": 13,
     "metadata": {},
     "output_type": "execute_result"
    }
   ],
   "source": [
    "southern_mp_trapped = field_line_interp[field_line_interp.alt > 100].iloc[-1]\n",
    "southern_mp_trapped"
   ]
  },
  {
   "cell_type": "markdown",
   "metadata": {},
   "source": [
    "Now use the local b field at 100 km altitude in the SAA to find the altitude in the northern hemisphere that has the same magnetic field strength"
   ]
  },
  {
   "cell_type": "code",
   "execution_count": 14,
   "metadata": {},
   "outputs": [
    {
     "data": {
      "text/plain": [
       "x             0.482341\n",
       "y            -0.089767\n",
       "z             0.996749\n",
       "blocal    38668.424689\n",
       "alt         706.997668\n",
       "Name: 2.405740574057406, dtype: float64"
      ]
     },
     "execution_count": 14,
     "metadata": {},
     "output_type": "execute_result"
    }
   ],
   "source": [
    "northern_mp_trapped = field_line_interp[field_line_interp.blocal < southern_mp_trapped.blocal].iloc[0]\n",
    "northern_mp_trapped"
   ]
  },
  {
   "cell_type": "markdown",
   "metadata": {},
   "source": [
    "Now find out the difference in altitude - by how much the electron's mirror point needed to lower in one bounce and be observed by AC6"
   ]
  },
  {
   "cell_type": "code",
   "execution_count": 15,
   "metadata": {},
   "outputs": [
    {
     "name": "stdout",
     "output_type": "stream",
     "text": [
      "The electron's mirror point must have decreased by at least 70.0 km into a 1032.0 nT stronger field strength\n"
     ]
    }
   ],
   "source": [
    "ac6_blocal = field_line_interp[field_line_interp.alt > curtain_obs_params.alt].iloc[0].blocal\n",
    "print(f\"The electron's mirror point must have decreased by at least \"\n",
    "      f\"{round(northern_mp_trapped.alt - curtain_obs_params.alt)} km \"\n",
    "      f\"into a {round(ac6_blocal - northern_mp_trapped.blocal)} nT stronger field strength\")"
   ]
  },
  {
   "cell_type": "markdown",
   "metadata": {},
   "source": [
    "### Estimate the change in pitch angle from the trapped to the precipitating particle.\n",
    "First find the equatorial magnetic field strength"
   ]
  },
  {
   "cell_type": "code",
   "execution_count": 16,
   "metadata": {},
   "outputs": [
    {
     "name": "stdout",
     "output_type": "stream",
     "text": [
      "Equatorial magnetic field strength = 164 nT\n"
     ]
    }
   ],
   "source": [
    "b_equator = model.find_magequator(X, None)['bmin']\n",
    "print(f'Equatorial magnetic field strength = {round(b_equator)} nT')"
   ]
  },
  {
   "cell_type": "markdown",
   "metadata": {},
   "source": [
    "The equatorial pitch angle is defined as \n",
    "\n",
    "$$\n",
    "\\alpha_{eq} = sin^{-1} \\bigg( \\sqrt{ \\frac{ B_{eq} } { B_m } } \\bigg)\n",
    "$$"
   ]
  },
  {
   "cell_type": "code",
   "execution_count": 17,
   "metadata": {},
   "outputs": [
    {
     "name": "stdout",
     "output_type": "stream",
     "text": [
      "Initial pitch angle = 3.73 degrees\n",
      "Final pitch angle = 3.68 degrees\n",
      "Pitch angle change = 0.05 degrees\n"
     ]
    }
   ],
   "source": [
    "alpha_initial = np.arcsin(np.sqrt(b_equator/southern_mp_trapped['blocal']))\n",
    "alpha_final = np.arcsin(np.sqrt(b_equator/ac6_blocal))\n",
    "d_alpha = alpha_initial - alpha_final\n",
    "\n",
    "print(f\"Initial pitch angle = {round(np.rad2deg(alpha_initial), 2)} degrees\")\n",
    "print(f\"Final pitch angle = {round(np.rad2deg(alpha_final), 2)} degrees\")\n",
    "print(f\"Pitch angle change = {round(np.rad2deg(d_alpha), 2)} degrees\")"
   ]
  },
  {
   "cell_type": "markdown",
   "metadata": {},
   "source": [
    "Now find the parallel potential (I worked out the math on paper)."
   ]
  },
  {
   "cell_type": "code",
   "execution_count": 18,
   "metadata": {},
   "outputs": [
    {
     "name": "stdout",
     "output_type": "stream",
     "text": [
      "Minimum electric potential is 909.0 Volts\n"
     ]
    }
   ],
   "source": [
    "potential = 35E3 * np.cos(alpha_initial) * ((np.tan(alpha_initial)/np.tan(alpha_final))**2 - 1)\n",
    "print(f'Minimum electric potential is {round(potential)} Volts')"
   ]
  },
  {
   "cell_type": "markdown",
   "metadata": {},
   "source": [
    "Paul's idea to use adiabatic invariants. Kinetic energy of a prticle at the mirror point is $W=\\mu B_0$ with no potential. Then you accelerate the particle with a potential $\\Phi$ and the particle will keep going until it reaches a new mirror point at $\\mu B_1 = \\mu B_0 + q \\Phi$. Then the potential is just\n",
    "\n",
    "$$\n",
    "q\\Phi = \\frac{W}{B_0} (B_1 - B_0),\n",
    "$$ where $W$ is the electron's kinetic energy."
   ]
  },
  {
   "cell_type": "code",
   "execution_count": 19,
   "metadata": {},
   "outputs": [
    {
     "data": {
      "text/plain": [
       "934.2940523505823"
      ]
     },
     "execution_count": 19,
     "metadata": {},
     "output_type": "execute_result"
    }
   ],
   "source": [
    "35E3*(ac6_blocal - northern_mp_trapped.blocal)/northern_mp_trapped.blocal"
   ]
  },
  {
   "cell_type": "markdown",
   "metadata": {},
   "source": [
    "# Misc"
   ]
  },
  {
   "cell_type": "markdown",
   "metadata": {},
   "source": [
    "### 35 keV electron bounce period in the area near the BLC\n",
    "Calculate the bounce period for locally mirroring, 35 keV electrons near the BLC region. This is only an appriximation to see if the bounce period is anywhere near the 4-8 second AC6 in-track separations when these curtains were observed."
   ]
  },
  {
   "cell_type": "code",
   "execution_count": 20,
   "metadata": {},
   "outputs": [
    {
     "name": "stdout",
     "output_type": "stream",
     "text": [
      "35 keV electron bounce period is 2.2 seconds\n"
     ]
    },
    {
     "name": "stderr",
     "output_type": "stream",
     "text": [
      "/home/mike/research/irbem-code/python/IRBEM.py:923: RuntimeWarning: invalid value encountered in sqrt\n",
      "  vparalel = lambda Ek, Bm, B, Erest = 511:c*beta(Ek, Erest)*np.sqrt(1 - np.abs(B/Bm))\n"
     ]
    }
   ],
   "source": [
    "X = {'dateTime':t_0, 'x1':cat.loc[t_0, 'alt'], 'x2':cat.loc[t_0, 'lat'], 'x3':-30}\n",
    "model.bounce_period(X, None, 35)\n",
    "print(f'35 keV electron bounce period is {round(model.Tb, 2)} seconds')"
   ]
  }
 ],
 "metadata": {
  "kernelspec": {
   "display_name": "Python 3",
   "language": "python",
   "name": "python3"
  },
  "language_info": {
   "codemirror_mode": {
    "name": "ipython",
    "version": 3
   },
   "file_extension": ".py",
   "mimetype": "text/x-python",
   "name": "python",
   "nbconvert_exporter": "python",
   "pygments_lexer": "ipython3",
   "version": "3.6.9"
  }
 },
 "nbformat": 4,
 "nbformat_minor": 2
}
